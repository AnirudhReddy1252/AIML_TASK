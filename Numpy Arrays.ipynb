{
 "cells": [
  {
   "cell_type": "code",
   "execution_count": 59,
   "id": "638fb67b-9f37-4efa-b3df-50b30e839fd7",
   "metadata": {},
   "outputs": [],
   "source": [
    "##Numpy Arrays offer powerful library for numerical computing in python\n",
    "##Homogeneous Data Type:NumPy arrays contain elements that are all of the\n",
    "##Multidimensional:Arrays can have multiple dimensions\n",
    "##Slicing and Indexing:Advanced slicing and indexing features\n",
    "##Efficient Memory Usage:NumPy arrays have a fixed size at creation\n",
    "##NumPy arrays are a foundational tool for scientific computing in python"
   ]
  },
  {
   "cell_type": "code",
   "execution_count": 61,
   "id": "e426b46d-8a07-49e1-aef1-bfa45b296e4c",
   "metadata": {},
   "outputs": [],
   "source": [
    "import numpy as np"
   ]
  },
  {
   "cell_type": "code",
   "execution_count": 63,
   "id": "18a4bced-9658-4e94-840c-0d5f9861d7b6",
   "metadata": {},
   "outputs": [],
   "source": [
    "#dir(np)"
   ]
  },
  {
   "cell_type": "code",
   "execution_count": 65,
   "id": "168ea297-0905-4488-ac27-33f413241c72",
   "metadata": {},
   "outputs": [
    {
     "name": "stdout",
     "output_type": "stream",
     "text": [
      "[45 67 57 60]\n",
      "<class 'numpy.ndarray'>\n",
      "int32\n"
     ]
    }
   ],
   "source": [
    "x = np.array([45,67,57,60])\n",
    "print(x)\n",
    "print(type(x))\n",
    "print(x.dtype)"
   ]
  },
  {
   "cell_type": "code",
   "execution_count": 67,
   "id": "c9e092a0-bc40-4d0b-b9ab-404644811fd5",
   "metadata": {},
   "outputs": [
    {
     "name": "stdout",
     "output_type": "stream",
     "text": [
      "[45.  67.  57.   9.8]\n",
      "<class 'numpy.ndarray'>\n",
      "float64\n"
     ]
    }
   ],
   "source": [
    "x = np.array([45,67,57,9.8])\n",
    "print(x)\n",
    "print(type(x))\n",
    "print(x.dtype)"
   ]
  },
  {
   "cell_type": "code",
   "execution_count": 103,
   "id": "8ea81849-a6e1-4cd4-bc0c-c186913cf7ff",
   "metadata": {},
   "outputs": [
    {
     "name": "stdout",
     "output_type": "stream",
     "text": [
      "['A' '67' '57' '9.8']\n",
      "<class 'numpy.ndarray'>\n",
      "<U32\n"
     ]
    }
   ],
   "source": [
    "x = np.array([\"A\",67,57,9.8])\n",
    "print(x)\n",
    "print(type(x))\n",
    "print(x.dtype)"
   ]
  },
  {
   "cell_type": "code",
   "execution_count": 105,
   "id": "fa3e20f9-ba39-41c6-a2fc-5bdb5c797a0e",
   "metadata": {},
   "outputs": [
    {
     "name": "stdout",
     "output_type": "stream",
     "text": [
      "[[20 40]\n",
      " [30 60]]\n",
      "<class 'numpy.ndarray'>\n",
      "(2, 2)\n"
     ]
    }
   ],
   "source": [
    "a2 = np.array([[20,40],[30,60]])\n",
    "print(a2)\n",
    "print(type(a2))\n",
    "print(a2.shape)"
   ]
  },
  {
   "cell_type": "code",
   "execution_count": 107,
   "id": "29582355-9678-4037-b213-8ca5223f0644",
   "metadata": {},
   "outputs": [
    {
     "name": "stdout",
     "output_type": "stream",
     "text": [
      "[[10 20]\n",
      " [30 40]]\n",
      "(2, 2)\n"
     ]
    }
   ],
   "source": [
    "a = np.array([10,20,30,40])\n",
    "b = a.reshape(2,2)\n",
    "print(b)\n",
    "print(b.shape)"
   ]
  },
  {
   "cell_type": "code",
   "execution_count": 109,
   "id": "ce5f2f75-8f67-49d3-9a6f-1b984ca13604",
   "metadata": {},
   "outputs": [
    {
     "name": "stdout",
     "output_type": "stream",
     "text": [
      "[3 4 5 6 7 8 9]\n"
     ]
    },
    {
     "data": {
      "text/plain": [
       "numpy.ndarray"
      ]
     },
     "execution_count": 109,
     "metadata": {},
     "output_type": "execute_result"
    }
   ],
   "source": [
    "c = np.arange(3,10)\n",
    "print(c)\n",
    "type(c)"
   ]
  },
  {
   "cell_type": "code",
   "execution_count": 111,
   "id": "2134d437-19e8-4da3-832d-c95bb92ae332",
   "metadata": {},
   "outputs": [
    {
     "name": "stdout",
     "output_type": "stream",
     "text": [
      "[1.3467  3.10987 4.91236]\n"
     ]
    },
    {
     "data": {
      "text/plain": [
       "array([1.35, 3.11, 4.91])"
      ]
     },
     "execution_count": 111,
     "metadata": {},
     "output_type": "execute_result"
    }
   ],
   "source": [
    "d = np.array([1.3467, 3.10987,4.91236])\n",
    "print(d)\n",
    "np.around(d,2)"
   ]
  },
  {
   "cell_type": "code",
   "execution_count": 113,
   "id": "baefb6ad-059f-43f8-b29c-e1e1d5eb8f9d",
   "metadata": {},
   "outputs": [
    {
     "name": "stdout",
     "output_type": "stream",
     "text": [
      "[1.3467  3.10987 4.91236]\n",
      "[1.16 1.76 2.22]\n"
     ]
    }
   ],
   "source": [
    "d = np.array([1.3467, 3.10987,4.91236])\n",
    "print(d)\n",
    "print(np.around(np.sqrt(d),2))"
   ]
  },
  {
   "cell_type": "code",
   "execution_count": 115,
   "id": "ecfe6089-3ad0-4f3a-a438-c41e185e1c4b",
   "metadata": {},
   "outputs": [
    {
     "name": "stdout",
     "output_type": "stream",
     "text": [
      "[[ 3.  4.  5.  8.]\n",
      " [ 7.  2.  8. nan]]\n"
     ]
    },
    {
     "data": {
      "text/plain": [
       "dtype('float64')"
      ]
     },
     "execution_count": 115,
     "metadata": {},
     "output_type": "execute_result"
    }
   ],
   "source": [
    "a1 = np.array([[3,4,5,8],[7,2,8,np.NaN]])\n",
    "print(a1)\n",
    "a1.dtype"
   ]
  },
  {
   "cell_type": "code",
   "execution_count": 117,
   "id": "3bbafa0e-e800-4459-9560-848e0ff9d3fa",
   "metadata": {},
   "outputs": [
    {
     "name": "stdout",
     "output_type": "stream",
     "text": [
      "[['3.0' '4.0' '5.0' '8.0']\n",
      " ['7.0' '2.0' '8.0' 'nan']]\n"
     ]
    },
    {
     "data": {
      "text/plain": [
       "dtype('<U32')"
      ]
     },
     "execution_count": 117,
     "metadata": {},
     "output_type": "execute_result"
    }
   ],
   "source": [
    "a1 = np.array([[3,4,5,8],[7,2,8,np.NaN]])\n",
    "a1_copy1 = a1.astype(str)\n",
    "print(a1_copy1)\n",
    "a1_copy1.dtype"
   ]
  },
  {
   "cell_type": "code",
   "execution_count": 119,
   "id": "e8c21c17-a2c5-499a-a6ae-2b6b92d4819f",
   "metadata": {},
   "outputs": [
    {
     "data": {
      "text/plain": [
       "array([[ 3,  4,  6],\n",
       "       [ 7,  9, 10],\n",
       "       [ 4,  6, 12]])"
      ]
     },
     "execution_count": 119,
     "metadata": {},
     "output_type": "execute_result"
    }
   ],
   "source": [
    "a2 =np.array([[3,4,6],[7,9,10],[4,6,12]])\n",
    "a2"
   ]
  },
  {
   "cell_type": "code",
   "execution_count": 121,
   "id": "d7b0cf71-76f9-4c52-9b34-ac5e4fb5ec6d",
   "metadata": {},
   "outputs": [
    {
     "data": {
      "text/plain": [
       "array([[3, 4, 5],\n",
       "       [7, 2, 8],\n",
       "       [9, 1, 6]])"
      ]
     },
     "execution_count": 121,
     "metadata": {},
     "output_type": "execute_result"
    }
   ],
   "source": [
    "a3 = np.array([[3,4,5],[7,2,8],[9,1,6]])\n",
    "a3"
   ]
  },
  {
   "cell_type": "code",
   "execution_count": 123,
   "id": "ccbf067d-f6ac-48a8-9165-94ba4a59f15a",
   "metadata": {},
   "outputs": [
    {
     "name": "stdout",
     "output_type": "stream",
     "text": [
      "[[3 4 5]\n",
      " [7 2 8]\n",
      " [9 1 6]]\n",
      "[[0 4 5]\n",
      " [7 0 8]\n",
      " [9 1 0]]\n"
     ]
    }
   ],
   "source": [
    "a3 = np.array([[3,4,5],[7,2,8],[9,1,6]])\n",
    "print(a3)\n",
    "np.fill_diagonal(a3,0)\n",
    "print(a3)"
   ]
  },
  {
   "cell_type": "code",
   "execution_count": 125,
   "id": "f9204a8a-8d68-4c40-8d55-386e40da1050",
   "metadata": {},
   "outputs": [],
   "source": [
    "A =np.array([[1,2], [3,4]])\n",
    "B =np.array([[5,6], [7,8]])\n",
    "\n",
    "C =np.matmul(A, B)"
   ]
  },
  {
   "cell_type": "code",
   "execution_count": 127,
   "id": "7e117fbe-b831-41f7-81a7-0daae5c78102",
   "metadata": {},
   "outputs": [
    {
     "name": "stdout",
     "output_type": "stream",
     "text": [
      "[[1 3]\n",
      " [2 4]]\n",
      "[[5 7]\n",
      " [6 8]]\n"
     ]
    }
   ],
   "source": [
    "print(A.T)\n",
    "print(B.T)"
   ]
  },
  {
   "cell_type": "code",
   "execution_count": 129,
   "id": "451b1b20-9114-48a3-ab41-a84dc833ab0f",
   "metadata": {},
   "outputs": [
    {
     "data": {
      "text/plain": [
       "array([[ 3,  4,  5],\n",
       "       [ 7,  2,  8],\n",
       "       [ 9,  1,  6],\n",
       "       [10,  9, 18]])"
      ]
     },
     "execution_count": 129,
     "metadata": {},
     "output_type": "execute_result"
    }
   ],
   "source": [
    "a4 = np.array([[3,4,5],[7,2,8],[9,1,6],[10,9,18]])\n",
    "a4"
   ]
  },
  {
   "cell_type": "code",
   "execution_count": 131,
   "id": "0c117686-db8a-46f1-9128-c5f8e9996d4d",
   "metadata": {},
   "outputs": [
    {
     "name": "stdout",
     "output_type": "stream",
     "text": [
      "[2 2 0]\n",
      "[2 0 1]\n"
     ]
    }
   ],
   "source": [
    "print(np.argmax(a3, axis=1))\n",
    "print(np.argmax(a3, axis=0))\n"
   ]
  },
  {
   "cell_type": "code",
   "execution_count": 133,
   "id": "de45a3de-4c6c-4c62-87a7-446119ba7955",
   "metadata": {},
   "outputs": [
    {
     "name": "stdout",
     "output_type": "stream",
     "text": [
      "[5 8 9]\n",
      "[9 4 8]\n"
     ]
    }
   ],
   "source": [
    "print(np.amax(a3, axis =1))\n",
    "print(np.amax(a3, axis =0))\n"
   ]
  },
  {
   "cell_type": "code",
   "execution_count": null,
   "id": "565b3bf3-c887-49d8-8dc4-d0e03052d6f3",
   "metadata": {},
   "outputs": [],
   "source": []
  },
  {
   "cell_type": "code",
   "execution_count": null,
   "id": "3b387ae2-d5f2-4d05-abe0-c05eb3e67e83",
   "metadata": {},
   "outputs": [],
   "source": []
  }
 ],
 "metadata": {
  "kernelspec": {
   "display_name": "Python [conda env:base] *",
   "language": "python",
   "name": "conda-base-py"
  },
  "language_info": {
   "codemirror_mode": {
    "name": "ipython",
    "version": 3
   },
   "file_extension": ".py",
   "mimetype": "text/x-python",
   "name": "python",
   "nbconvert_exporter": "python",
   "pygments_lexer": "ipython3",
   "version": "3.12.7"
  }
 },
 "nbformat": 4,
 "nbformat_minor": 5
}
