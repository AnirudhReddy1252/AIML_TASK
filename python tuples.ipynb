{
 "cells": [
  {
   "cell_type": "code",
   "execution_count": 1,
   "id": "19e5cacc-88bc-41c8-819e-15b2bbbbfc96",
   "metadata": {},
   "outputs": [],
   "source": [
    "Tup1=(3,5,9,10)"
   ]
  },
  {
   "cell_type": "code",
   "execution_count": 3,
   "id": "71ed71d8-310a-459c-b6f1-8d360a5fa8ea",
   "metadata": {},
   "outputs": [],
   "source": [
    "Tup2=10,20,30,'Hi'"
   ]
  },
  {
   "cell_type": "code",
   "execution_count": 4,
   "id": "adb5ff8d-c5d5-4d06-b5d0-9833de9e5cac",
   "metadata": {},
   "outputs": [],
   "source": [
    "Tup3=tuple([1,2,5,7])"
   ]
  },
  {
   "cell_type": "code",
   "execution_count": 5,
   "id": "2c2e119f-194b-463b-9e72-68e3634be41d",
   "metadata": {},
   "outputs": [
    {
     "name": "stdout",
     "output_type": "stream",
     "text": [
      "(3, 5, 9, 10)\n"
     ]
    }
   ],
   "source": [
    "print(Tup1)"
   ]
  },
  {
   "cell_type": "code",
   "execution_count": 6,
   "id": "24fa008a-54f1-40b1-8764-fe24b0a37318",
   "metadata": {},
   "outputs": [
    {
     "name": "stdout",
     "output_type": "stream",
     "text": [
      "(3, 5, 9, 10)\n",
      "<class 'tuple'>\n"
     ]
    }
   ],
   "source": [
    "print(Tup1)\n",
    "print(type(Tup1))"
   ]
  },
  {
   "cell_type": "code",
   "execution_count": 7,
   "id": "248a2d84-b561-43e4-b1ee-62e6e1318cbe",
   "metadata": {},
   "outputs": [
    {
     "name": "stdout",
     "output_type": "stream",
     "text": [
      "(10, 20, 30, 'Hi')\n",
      "<class 'tuple'>\n"
     ]
    }
   ],
   "source": [
    "print(Tup2)\n",
    "print(type(Tup2))"
   ]
  },
  {
   "cell_type": "code",
   "execution_count": 8,
   "id": "63f88545-8c12-43f8-8efc-bb51cbcb8bea",
   "metadata": {},
   "outputs": [
    {
     "name": "stdout",
     "output_type": "stream",
     "text": [
      "(1, 2, 5, 7)\n",
      "<class 'tuple'>\n"
     ]
    }
   ],
   "source": [
    "print(Tup3)\n",
    "print(type(Tup3))"
   ]
  },
  {
   "cell_type": "code",
   "execution_count": 9,
   "id": "1b672bbb-c110-4fab-a803-d2b0ee6db337",
   "metadata": {},
   "outputs": [
    {
     "name": "stdout",
     "output_type": "stream",
     "text": [
      "([3, 4, 5], (1, 3, 6), 'Hello', 10.5)\n"
     ]
    }
   ],
   "source": [
    "Tup4=([3,4,5],(1,3,6),\"Hello\",10.5)\n",
    "print(Tup4)"
   ]
  },
  {
   "cell_type": "code",
   "execution_count": 17,
   "id": "58263883-5d1c-4736-80a2-db661730f586",
   "metadata": {},
   "outputs": [
    {
     "data": {
      "text/plain": [
       "([3, 4, 10], (1, 3, 6), 'Hello', 10.5)"
      ]
     },
     "execution_count": 17,
     "metadata": {},
     "output_type": "execute_result"
    }
   ],
   "source": [
    "Tup4[0][2] = 10\n",
    "Tup4"
   ]
  },
  {
   "cell_type": "code",
   "execution_count": 19,
   "id": "88fb6f0c-6d7a-45ba-bd42-e6e033c1d71d",
   "metadata": {},
   "outputs": [
    {
     "ename": "TypeError",
     "evalue": "'tuple' object does not support item assignment",
     "output_type": "error",
     "traceback": [
      "\u001b[1;31m---------------------------------------------------------------------------\u001b[0m",
      "\u001b[1;31mTypeError\u001b[0m                                 Traceback (most recent call last)",
      "Cell \u001b[1;32mIn[19], line 1\u001b[0m\n\u001b[1;32m----> 1\u001b[0m Tup4[\u001b[38;5;241m1\u001b[39m][\u001b[38;5;241m1\u001b[39m] \u001b[38;5;241m=\u001b[39m \u001b[38;5;241m100\u001b[39m\n\u001b[0;32m      2\u001b[0m Tup4\n",
      "\u001b[1;31mTypeError\u001b[0m: 'tuple' object does not support item assignment"
     ]
    }
   ],
   "source": [
    "\n",
    "Tup4[1][1] = 100\n",
    "Tup4"
   ]
  },
  {
   "cell_type": "code",
   "execution_count": 21,
   "id": "f675023e-9193-479a-bb46-3965be40b766",
   "metadata": {},
   "outputs": [
    {
     "data": {
      "text/plain": [
       "2"
      ]
     },
     "execution_count": 21,
     "metadata": {},
     "output_type": "execute_result"
    }
   ],
   "source": [
    "Tup4.index('Hello')"
   ]
  },
  {
   "cell_type": "code",
   "execution_count": 23,
   "id": "f9787179-6d4f-482d-aabb-a7095da2aa72",
   "metadata": {},
   "outputs": [
    {
     "data": {
      "text/plain": [
       "4"
      ]
     },
     "execution_count": 23,
     "metadata": {},
     "output_type": "execute_result"
    }
   ],
   "source": [
    "Tup5 = (10,20,1,10,10,30,10)\n",
    "Tup5.count(10)"
   ]
  },
  {
   "cell_type": "code",
   "execution_count": 26,
   "id": "0ce05323-b3ec-47b3-8034-6c862962ede8",
   "metadata": {},
   "outputs": [
    {
     "name": "stdout",
     "output_type": "stream",
     "text": [
      "{'a': 1, 'b': 2, 'c': 3}\n",
      "<class 'dict'>\n"
     ]
    }
   ],
   "source": [
    "d1 = {\"a\": 1, \"b\": 2, \"c\": 3}\n",
    "print(d1)\n",
    "print(type(d1))"
   ]
  },
  {
   "cell_type": "code",
   "execution_count": 28,
   "id": "728e646a-2073-44ef-b7a1-02bf88d220f1",
   "metadata": {},
   "outputs": [
    {
     "name": "stdout",
     "output_type": "stream",
     "text": [
      "{'A': 10, 'B': 20, 'C': 30}\n"
     ]
    }
   ],
   "source": [
    "d2 = dict(A=10, B=20, C=30)\n",
    "print(d2)"
   ]
  },
  {
   "cell_type": "code",
   "execution_count": 32,
   "id": "5fd4c1ce-2956-4de3-9e04-ce7da29ed398",
   "metadata": {},
   "outputs": [
    {
     "name": "stdout",
     "output_type": "stream",
     "text": [
      "{'x': 1, 'y': 2, 'z': 3}\n"
     ]
    }
   ],
   "source": [
    "d3 = dict([(\"x\", 1), (\"y\", 2), (\"z\", 3)])\n",
    "print(d3)"
   ]
  },
  {
   "cell_type": "code",
   "execution_count": 34,
   "id": "f24f322e-ffe6-4016-8063-1682686ae93d",
   "metadata": {},
   "outputs": [
    {
     "name": "stdout",
     "output_type": "stream",
     "text": [
      "dict_keys(['a', 'b', 'c'])\n",
      "dict_values([1, 2, 3])\n",
      "dict_items([('a', 1), ('b', 2), ('c', 3)])\n"
     ]
    }
   ],
   "source": [
    "print(d1.keys())\n",
    "print(d1.values())\n",
    "print(d1.items())"
   ]
  },
  {
   "cell_type": "code",
   "execution_count": 36,
   "id": "ad14655d-c7b7-4bf5-993d-96c6c155c5a5",
   "metadata": {},
   "outputs": [
    {
     "data": {
      "text/plain": [
       "{'a': 1, 'b': 2, 'c': 3}"
      ]
     },
     "execution_count": 36,
     "metadata": {},
     "output_type": "execute_result"
    }
   ],
   "source": [
    "d1"
   ]
  },
  {
   "cell_type": "code",
   "execution_count": 38,
   "id": "30a96844-e7ad-4d19-8f69-04038ead3a69",
   "metadata": {},
   "outputs": [
    {
     "data": {
      "text/plain": [
       "['__class__',\n",
       " '__class_getitem__',\n",
       " '__contains__',\n",
       " '__delattr__',\n",
       " '__delitem__',\n",
       " '__dir__',\n",
       " '__doc__',\n",
       " '__eq__',\n",
       " '__format__',\n",
       " '__ge__',\n",
       " '__getattribute__',\n",
       " '__getitem__',\n",
       " '__getstate__',\n",
       " '__gt__',\n",
       " '__hash__',\n",
       " '__init__',\n",
       " '__init_subclass__',\n",
       " '__ior__',\n",
       " '__iter__',\n",
       " '__le__',\n",
       " '__len__',\n",
       " '__lt__',\n",
       " '__ne__',\n",
       " '__new__',\n",
       " '__or__',\n",
       " '__reduce__',\n",
       " '__reduce_ex__',\n",
       " '__repr__',\n",
       " '__reversed__',\n",
       " '__ror__',\n",
       " '__setattr__',\n",
       " '__setitem__',\n",
       " '__sizeof__',\n",
       " '__str__',\n",
       " '__subclasshook__',\n",
       " 'clear',\n",
       " 'copy',\n",
       " 'fromkeys',\n",
       " 'get',\n",
       " 'items',\n",
       " 'keys',\n",
       " 'pop',\n",
       " 'popitem',\n",
       " 'setdefault',\n",
       " 'update',\n",
       " 'values']"
      ]
     },
     "execution_count": 38,
     "metadata": {},
     "output_type": "execute_result"
    }
   ],
   "source": [
    "dir(dict)"
   ]
  },
  {
   "cell_type": "code",
   "execution_count": 40,
   "id": "99db7c97-226b-4c07-b960-22d3fc420b13",
   "metadata": {},
   "outputs": [
    {
     "data": {
      "text/plain": [
       "{'Virat': 30,\n",
       " 'Shreyas': 95,\n",
       " 'Rahul': 75,\n",
       " 'Nitish': 50,\n",
       " 'Jadeja': 61,\n",
       " 'Dhoni': 80,\n",
       " 'Rohith': 45}"
      ]
     },
     "execution_count": 40,
     "metadata": {},
     "output_type": "execute_result"
    }
   ],
   "source": [
    "scores = {'Virat':30, 'Shreyas':95, 'Rahul':75, 'Nitish':50, 'Jadeja':61, 'Dhoni':80, 'Rohith':45}\n",
    "scores"
   ]
  },
  {
   "cell_type": "code",
   "execution_count": 42,
   "id": "1e1f19b6-8a06-49a6-8f82-ab194cdfd4c0",
   "metadata": {},
   "outputs": [
    {
     "data": {
      "text/plain": [
       "{'Virat': 30,\n",
       " 'Shreyas': 95,\n",
       " 'Rahul': 75,\n",
       " 'Nitish': 50,\n",
       " 'Jadeja': 61,\n",
       " 'Dhoni': 80,\n",
       " 'Rohith': 45}"
      ]
     },
     "execution_count": 42,
     "metadata": {},
     "output_type": "execute_result"
    }
   ],
   "source": [
    "scores[\"Shreyas\"] = 95\n",
    "scores"
   ]
  },
  {
   "cell_type": "code",
   "execution_count": 44,
   "id": "56d86c1b-52eb-4e4a-80a3-2afe6ec06435",
   "metadata": {},
   "outputs": [
    {
     "data": {
      "text/plain": [
       "{'Virat': 30,\n",
       " 'Shreyas': 95,\n",
       " 'Rahul': 75,\n",
       " 'Nitish': 50,\n",
       " 'Jadeja': 50,\n",
       " 'Dhoni': 80,\n",
       " 'Rohith': 45}"
      ]
     },
     "execution_count": 44,
     "metadata": {},
     "output_type": "execute_result"
    }
   ],
   "source": [
    "scores.update({\"Jadeja\":50})\n",
    "scores"
   ]
  },
  {
   "cell_type": "code",
   "execution_count": 46,
   "id": "a80aa04f-291d-4dc4-910d-ae912a347e1a",
   "metadata": {},
   "outputs": [
    {
     "data": {
      "text/plain": [
       "{'Virat': 30,\n",
       " 'Shreyas': 95,\n",
       " 'Rahul': 75,\n",
       " 'Nitish': 65,\n",
       " 'Jadeja': 50,\n",
       " 'Dhoni': 80,\n",
       " 'Rohith': 45,\n",
       " 'Rahane': 53}"
      ]
     },
     "execution_count": 46,
     "metadata": {},
     "output_type": "execute_result"
    }
   ],
   "source": [
    "scores.update({\"Nitish\":65, \"Rahane\":53})\n",
    "scores"
   ]
  },
  {
   "cell_type": "code",
   "execution_count": 48,
   "id": "3cea0378-4a7e-4fd5-bca0-eb70fc314758",
   "metadata": {},
   "outputs": [
    {
     "data": {
      "text/plain": [
       "{'Virat': 30,\n",
       " 'Shreyas': 95,\n",
       " 'Rahul': 80,\n",
       " 'Nitish': 65,\n",
       " 'Jadeja': 50,\n",
       " 'Dhoni': 80,\n",
       " 'Rohith': 45,\n",
       " 'Rahane': 60}"
      ]
     },
     "execution_count": 48,
     "metadata": {},
     "output_type": "execute_result"
    }
   ],
   "source": [
    "scores.update({\"Rahul\":80, \"Rahane\":60})\n",
    "scores"
   ]
  },
  {
   "cell_type": "code",
   "execution_count": 50,
   "id": "abae0eaa-4ea4-4628-8e10-c0711fae1104",
   "metadata": {},
   "outputs": [
    {
     "data": {
      "text/plain": [
       "{'Virat': 30,\n",
       " 'Shreyas': 95,\n",
       " 'Rahul': 80,\n",
       " 'Nitish': 65,\n",
       " 'Jadeja': 50,\n",
       " 'Dhoni': 80,\n",
       " 'Rohith': 45,\n",
       " 'Rahane': 60}"
      ]
     },
     "execution_count": 50,
     "metadata": {},
     "output_type": "execute_result"
    }
   ],
   "source": [
    "scores.setdefault(\"Rahul\",60)\n",
    "scores"
   ]
  },
  {
   "cell_type": "code",
   "execution_count": 52,
   "id": "81db7878-965c-4829-95da-d474f80be37f",
   "metadata": {},
   "outputs": [
    {
     "data": {
      "text/plain": [
       "{'Virat': 30,\n",
       " 'Shreyas': 95,\n",
       " 'Rahul': 80,\n",
       " 'Nitish': 65,\n",
       " 'Jadeja': 50,\n",
       " 'Dhoni': 80,\n",
       " 'Rohith': 45,\n",
       " 'Rahane': 60,\n",
       " 'Pujara': 50}"
      ]
     },
     "execution_count": 52,
     "metadata": {},
     "output_type": "execute_result"
    }
   ],
   "source": [
    "scores.setdefault(\"Pujara\",50)\n",
    "scores"
   ]
  },
  {
   "cell_type": "code",
   "execution_count": 54,
   "id": "52a0d4be-e080-4993-9d10-c55e9d9c40b3",
   "metadata": {},
   "outputs": [
    {
     "data": {
      "text/plain": [
       "{'Virat': 30,\n",
       " 'Shreyas': 95,\n",
       " 'Rahul': 80,\n",
       " 'Nitish': 65,\n",
       " 'Jadeja': 50,\n",
       " 'Dhoni': 80,\n",
       " 'Rohith': 45,\n",
       " 'Rahane': 60}"
      ]
     },
     "execution_count": 54,
     "metadata": {},
     "output_type": "execute_result"
    }
   ],
   "source": [
    "scores.popitem()\n",
    "scores"
   ]
  },
  {
   "cell_type": "code",
   "execution_count": 56,
   "id": "e34a96af-71ab-4cdf-b01a-f53e7e122734",
   "metadata": {},
   "outputs": [
    {
     "data": {
      "text/plain": [
       "{'Shreyas': 95,\n",
       " 'Rahul': 80,\n",
       " 'Nitish': 65,\n",
       " 'Jadeja': 50,\n",
       " 'Dhoni': 80,\n",
       " 'Rohith': 45,\n",
       " 'Rahane': 60}"
      ]
     },
     "execution_count": 56,
     "metadata": {},
     "output_type": "execute_result"
    }
   ],
   "source": [
    "scores.pop(\"Virat\")\n",
    "scores"
   ]
  },
  {
   "cell_type": "code",
   "execution_count": 60,
   "id": "cb9fd493-3a2b-4592-adfa-26a9e455be74",
   "metadata": {},
   "outputs": [
    {
     "data": {
      "text/plain": [
       "45"
      ]
     },
     "execution_count": 60,
     "metadata": {},
     "output_type": "execute_result"
    }
   ],
   "source": [
    "scores.get(\"Rohith\")"
   ]
  },
  {
   "cell_type": "code",
   "execution_count": 64,
   "id": "57c276ce-70e3-4a12-9243-72ac077efad3",
   "metadata": {},
   "outputs": [
    {
     "data": {
      "text/plain": [
       "{'A': None, 'B': None, 'C': None, 'D': None}"
      ]
     },
     "execution_count": 64,
     "metadata": {},
     "output_type": "execute_result"
    }
   ],
   "source": [
    "list1 = [\"A\",\"B\",\"C\",\"D\"]\n",
    "my_dict = dict.fromkeys(list1)\n",
    "my_dict"
   ]
  },
  {
   "cell_type": "code",
   "execution_count": 68,
   "id": "5e067da6-ec9a-4fe0-97ad-8039fbdf066c",
   "metadata": {},
   "outputs": [
    {
     "data": {
      "text/plain": [
       "{'A': 10, 'B': 20, 'C': None, 'D': None}"
      ]
     },
     "execution_count": 68,
     "metadata": {},
     "output_type": "execute_result"
    }
   ],
   "source": [
    "my_dict.update({\"A\":10,\"B\":20})\n",
    "my_dict"
   ]
  },
  {
   "cell_type": "code",
   "execution_count": null,
   "id": "deafc783-f8df-4e43-ac72-bfb55fd1a513",
   "metadata": {},
   "outputs": [],
   "source": []
  }
 ],
 "metadata": {
  "kernelspec": {
   "display_name": "Python [conda env:base] *",
   "language": "python",
   "name": "conda-base-py"
  },
  "language_info": {
   "codemirror_mode": {
    "name": "ipython",
    "version": 3
   },
   "file_extension": ".py",
   "mimetype": "text/x-python",
   "name": "python",
   "nbconvert_exporter": "python",
   "pygments_lexer": "ipython3",
   "version": "3.12.7"
  }
 },
 "nbformat": 4,
 "nbformat_minor": 5
}
