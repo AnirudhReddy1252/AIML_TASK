{
 "cells": [
  {
   "cell_type": "code",
   "execution_count": 1,
   "id": "96bb3989-4066-4f09-9d5c-a2d82a6626fb",
   "metadata": {},
   "outputs": [],
   "source": [
    "import pandas as pd\n",
    "import numpy as np\n",
    "import matplotlib.pyplot as plt\n",
    "import seaborn as sns"
   ]
  },
  {
   "cell_type": "code",
   "execution_count": 2,
   "id": "dfaf4cfb-ae15-44c7-8945-547f3d0adc7b",
   "metadata": {},
   "outputs": [
    {
     "name": "stdout",
     "output_type": "stream",
     "text": [
      "     Unnamed: 0  Ozone  Solar.R  Wind Temp C Month  Day  Year  Temp Weather\n",
      "0             1   41.0    190.0   7.4     67     5    1  2010    67       S\n",
      "1             2   36.0    118.0   8.0     72     5    2  2010    72       C\n",
      "2             3   12.0    149.0  12.6     74     5    3  2010    74      PS\n",
      "3             4   18.0    313.0  11.5     62     5    4  2010    62       S\n",
      "4             5    NaN      NaN  14.3     56     5    5  2010    56       S\n",
      "..          ...    ...      ...   ...    ...   ...  ...   ...   ...     ...\n",
      "153         154   41.0    190.0   7.4     67     5    1  2010    67       C\n",
      "154         155   30.0    193.0   6.9     70     9   26  2010    70      PS\n",
      "155         156    NaN    145.0  13.2     77     9   27  2010    77       S\n",
      "156         157   14.0    191.0  14.3     75     9   28  2010    75       S\n",
      "157         158   18.0    131.0   8.0     76     9   29  2010    76       C\n",
      "\n",
      "[158 rows x 10 columns]\n"
     ]
    }
   ],
   "source": [
    "data = pd.read_csv(\"data_clean.csv\")\n",
    "print(data)"
   ]
  },
  {
   "cell_type": "code",
   "execution_count": 3,
   "id": "da999287-d272-4477-8492-aaa76519045e",
   "metadata": {},
   "outputs": [
    {
     "name": "stdout",
     "output_type": "stream",
     "text": [
      "<class 'pandas.core.frame.DataFrame'>\n",
      "RangeIndex: 158 entries, 0 to 157\n",
      "Data columns (total 10 columns):\n",
      " #   Column      Non-Null Count  Dtype  \n",
      "---  ------      --------------  -----  \n",
      " 0   Unnamed: 0  158 non-null    int64  \n",
      " 1   Ozone       120 non-null    float64\n",
      " 2   Solar.R     151 non-null    float64\n",
      " 3   Wind        158 non-null    float64\n",
      " 4   Temp C      158 non-null    object \n",
      " 5   Month       158 non-null    object \n",
      " 6   Day         158 non-null    int64  \n",
      " 7   Year        158 non-null    int64  \n",
      " 8   Temp        158 non-null    int64  \n",
      " 9   Weather     155 non-null    object \n",
      "dtypes: float64(3), int64(4), object(3)\n",
      "memory usage: 12.5+ KB\n"
     ]
    }
   ],
   "source": [
    "data.info()"
   ]
  },
  {
   "cell_type": "code",
   "execution_count": 4,
   "id": "e7cf7892-8183-46bc-848d-97e8f453fba0",
   "metadata": {},
   "outputs": [
    {
     "name": "stdout",
     "output_type": "stream",
     "text": [
      "<class 'pandas.core.frame.DataFrame'>\n",
      "(158, 10)\n",
      "1580\n"
     ]
    }
   ],
   "source": [
    "print(type(data))\n",
    "print(data.shape)\n",
    "print(data.size)"
   ]
  },
  {
   "cell_type": "code",
   "execution_count": 5,
   "id": "ac271d5e-b225-44a3-a065-3493368a7f7e",
   "metadata": {},
   "outputs": [
    {
     "data": {
      "text/html": [
       "<div>\n",
       "<style scoped>\n",
       "    .dataframe tbody tr th:only-of-type {\n",
       "        vertical-align: middle;\n",
       "    }\n",
       "\n",
       "    .dataframe tbody tr th {\n",
       "        vertical-align: top;\n",
       "    }\n",
       "\n",
       "    .dataframe thead th {\n",
       "        text-align: right;\n",
       "    }\n",
       "</style>\n",
       "<table border=\"1\" class=\"dataframe\">\n",
       "  <thead>\n",
       "    <tr style=\"text-align: right;\">\n",
       "      <th></th>\n",
       "      <th>Ozone</th>\n",
       "      <th>Solar.R</th>\n",
       "      <th>Wind</th>\n",
       "      <th>Month</th>\n",
       "      <th>Day</th>\n",
       "      <th>Year</th>\n",
       "      <th>Temp</th>\n",
       "      <th>Weather</th>\n",
       "    </tr>\n",
       "  </thead>\n",
       "  <tbody>\n",
       "    <tr>\n",
       "      <th>0</th>\n",
       "      <td>41.0</td>\n",
       "      <td>190.0</td>\n",
       "      <td>7.4</td>\n",
       "      <td>5</td>\n",
       "      <td>1</td>\n",
       "      <td>2010</td>\n",
       "      <td>67</td>\n",
       "      <td>S</td>\n",
       "    </tr>\n",
       "    <tr>\n",
       "      <th>1</th>\n",
       "      <td>36.0</td>\n",
       "      <td>118.0</td>\n",
       "      <td>8.0</td>\n",
       "      <td>5</td>\n",
       "      <td>2</td>\n",
       "      <td>2010</td>\n",
       "      <td>72</td>\n",
       "      <td>C</td>\n",
       "    </tr>\n",
       "    <tr>\n",
       "      <th>2</th>\n",
       "      <td>12.0</td>\n",
       "      <td>149.0</td>\n",
       "      <td>12.6</td>\n",
       "      <td>5</td>\n",
       "      <td>3</td>\n",
       "      <td>2010</td>\n",
       "      <td>74</td>\n",
       "      <td>PS</td>\n",
       "    </tr>\n",
       "    <tr>\n",
       "      <th>3</th>\n",
       "      <td>18.0</td>\n",
       "      <td>313.0</td>\n",
       "      <td>11.5</td>\n",
       "      <td>5</td>\n",
       "      <td>4</td>\n",
       "      <td>2010</td>\n",
       "      <td>62</td>\n",
       "      <td>S</td>\n",
       "    </tr>\n",
       "    <tr>\n",
       "      <th>4</th>\n",
       "      <td>NaN</td>\n",
       "      <td>NaN</td>\n",
       "      <td>14.3</td>\n",
       "      <td>5</td>\n",
       "      <td>5</td>\n",
       "      <td>2010</td>\n",
       "      <td>56</td>\n",
       "      <td>S</td>\n",
       "    </tr>\n",
       "    <tr>\n",
       "      <th>...</th>\n",
       "      <td>...</td>\n",
       "      <td>...</td>\n",
       "      <td>...</td>\n",
       "      <td>...</td>\n",
       "      <td>...</td>\n",
       "      <td>...</td>\n",
       "      <td>...</td>\n",
       "      <td>...</td>\n",
       "    </tr>\n",
       "    <tr>\n",
       "      <th>153</th>\n",
       "      <td>41.0</td>\n",
       "      <td>190.0</td>\n",
       "      <td>7.4</td>\n",
       "      <td>5</td>\n",
       "      <td>1</td>\n",
       "      <td>2010</td>\n",
       "      <td>67</td>\n",
       "      <td>C</td>\n",
       "    </tr>\n",
       "    <tr>\n",
       "      <th>154</th>\n",
       "      <td>30.0</td>\n",
       "      <td>193.0</td>\n",
       "      <td>6.9</td>\n",
       "      <td>9</td>\n",
       "      <td>26</td>\n",
       "      <td>2010</td>\n",
       "      <td>70</td>\n",
       "      <td>PS</td>\n",
       "    </tr>\n",
       "    <tr>\n",
       "      <th>155</th>\n",
       "      <td>NaN</td>\n",
       "      <td>145.0</td>\n",
       "      <td>13.2</td>\n",
       "      <td>9</td>\n",
       "      <td>27</td>\n",
       "      <td>2010</td>\n",
       "      <td>77</td>\n",
       "      <td>S</td>\n",
       "    </tr>\n",
       "    <tr>\n",
       "      <th>156</th>\n",
       "      <td>14.0</td>\n",
       "      <td>191.0</td>\n",
       "      <td>14.3</td>\n",
       "      <td>9</td>\n",
       "      <td>28</td>\n",
       "      <td>2010</td>\n",
       "      <td>75</td>\n",
       "      <td>S</td>\n",
       "    </tr>\n",
       "    <tr>\n",
       "      <th>157</th>\n",
       "      <td>18.0</td>\n",
       "      <td>131.0</td>\n",
       "      <td>8.0</td>\n",
       "      <td>9</td>\n",
       "      <td>29</td>\n",
       "      <td>2010</td>\n",
       "      <td>76</td>\n",
       "      <td>C</td>\n",
       "    </tr>\n",
       "  </tbody>\n",
       "</table>\n",
       "<p>158 rows × 8 columns</p>\n",
       "</div>"
      ],
      "text/plain": [
       "     Ozone  Solar.R  Wind Month  Day  Year  Temp Weather\n",
       "0     41.0    190.0   7.4     5    1  2010    67       S\n",
       "1     36.0    118.0   8.0     5    2  2010    72       C\n",
       "2     12.0    149.0  12.6     5    3  2010    74      PS\n",
       "3     18.0    313.0  11.5     5    4  2010    62       S\n",
       "4      NaN      NaN  14.3     5    5  2010    56       S\n",
       "..     ...      ...   ...   ...  ...   ...   ...     ...\n",
       "153   41.0    190.0   7.4     5    1  2010    67       C\n",
       "154   30.0    193.0   6.9     9   26  2010    70      PS\n",
       "155    NaN    145.0  13.2     9   27  2010    77       S\n",
       "156   14.0    191.0  14.3     9   28  2010    75       S\n",
       "157   18.0    131.0   8.0     9   29  2010    76       C\n",
       "\n",
       "[158 rows x 8 columns]"
      ]
     },
     "execution_count": 5,
     "metadata": {},
     "output_type": "execute_result"
    }
   ],
   "source": [
    "data1 = data.drop(['Unnamed: 0',\"Temp C\"], axis =1)\n",
    "data1"
   ]
  },
  {
   "cell_type": "code",
   "execution_count": 6,
   "id": "0ee89646-3146-474e-8110-683f1f817675",
   "metadata": {},
   "outputs": [
    {
     "name": "stdout",
     "output_type": "stream",
     "text": [
      "<class 'pandas.core.frame.DataFrame'>\n",
      "RangeIndex: 158 entries, 0 to 157\n",
      "Data columns (total 8 columns):\n",
      " #   Column   Non-Null Count  Dtype  \n",
      "---  ------   --------------  -----  \n",
      " 0   Ozone    120 non-null    float64\n",
      " 1   Solar.R  151 non-null    float64\n",
      " 2   Wind     158 non-null    float64\n",
      " 3   Month    158 non-null    object \n",
      " 4   Day      158 non-null    int64  \n",
      " 5   Year     158 non-null    int64  \n",
      " 6   Temp     158 non-null    int64  \n",
      " 7   Weather  155 non-null    object \n",
      "dtypes: float64(3), int64(3), object(2)\n",
      "memory usage: 10.0+ KB\n"
     ]
    }
   ],
   "source": [
    "data1.info()"
   ]
  },
  {
   "cell_type": "code",
   "execution_count": 7,
   "id": "4a60a6df-b26a-484e-97e4-8ed8bfc38071",
   "metadata": {
    "scrolled": true
   },
   "outputs": [
    {
     "name": "stdout",
     "output_type": "stream",
     "text": [
      "<class 'pandas.core.frame.DataFrame'>\n",
      "RangeIndex: 158 entries, 0 to 157\n",
      "Data columns (total 8 columns):\n",
      " #   Column   Non-Null Count  Dtype  \n",
      "---  ------   --------------  -----  \n",
      " 0   Ozone    120 non-null    float64\n",
      " 1   Solar.R  151 non-null    float64\n",
      " 2   Wind     158 non-null    float64\n",
      " 3   Month    157 non-null    float64\n",
      " 4   Day      158 non-null    int64  \n",
      " 5   Year     158 non-null    int64  \n",
      " 6   Temp     158 non-null    int64  \n",
      " 7   Weather  155 non-null    object \n",
      "dtypes: float64(4), int64(3), object(1)\n",
      "memory usage: 10.0+ KB\n"
     ]
    }
   ],
   "source": [
    "data1['Month']=pd.to_numeric(data['Month'],errors='coerce')\n",
    "data1.info()"
   ]
  },
  {
   "cell_type": "code",
   "execution_count": 8,
   "id": "d9e8030e-2213-415a-a330-da6e37e017e4",
   "metadata": {},
   "outputs": [
    {
     "data": {
      "text/html": [
       "<div>\n",
       "<style scoped>\n",
       "    .dataframe tbody tr th:only-of-type {\n",
       "        vertical-align: middle;\n",
       "    }\n",
       "\n",
       "    .dataframe tbody tr th {\n",
       "        vertical-align: top;\n",
       "    }\n",
       "\n",
       "    .dataframe thead th {\n",
       "        text-align: right;\n",
       "    }\n",
       "</style>\n",
       "<table border=\"1\" class=\"dataframe\">\n",
       "  <thead>\n",
       "    <tr style=\"text-align: right;\">\n",
       "      <th></th>\n",
       "      <th>Ozone</th>\n",
       "      <th>Solar.R</th>\n",
       "      <th>Wind</th>\n",
       "      <th>Month</th>\n",
       "      <th>Day</th>\n",
       "      <th>Year</th>\n",
       "      <th>Temp</th>\n",
       "      <th>Weather</th>\n",
       "    </tr>\n",
       "  </thead>\n",
       "  <tbody>\n",
       "    <tr>\n",
       "      <th>150</th>\n",
       "      <td>14.0</td>\n",
       "      <td>191.0</td>\n",
       "      <td>14.3</td>\n",
       "      <td>9.0</td>\n",
       "      <td>28</td>\n",
       "      <td>2010</td>\n",
       "      <td>75</td>\n",
       "      <td>S</td>\n",
       "    </tr>\n",
       "    <tr>\n",
       "      <th>156</th>\n",
       "      <td>14.0</td>\n",
       "      <td>191.0</td>\n",
       "      <td>14.3</td>\n",
       "      <td>9.0</td>\n",
       "      <td>28</td>\n",
       "      <td>2010</td>\n",
       "      <td>75</td>\n",
       "      <td>S</td>\n",
       "    </tr>\n",
       "  </tbody>\n",
       "</table>\n",
       "</div>"
      ],
      "text/plain": [
       "     Ozone  Solar.R  Wind  Month  Day  Year  Temp Weather\n",
       "150   14.0    191.0  14.3    9.0   28  2010    75       S\n",
       "156   14.0    191.0  14.3    9.0   28  2010    75       S"
      ]
     },
     "execution_count": 8,
     "metadata": {},
     "output_type": "execute_result"
    }
   ],
   "source": [
    "data1[data1.duplicated(keep = False)]"
   ]
  },
  {
   "cell_type": "code",
   "execution_count": 9,
   "id": "4973d08a-b176-408f-ad29-ad92a2070ed9",
   "metadata": {},
   "outputs": [
    {
     "data": {
      "text/html": [
       "<div>\n",
       "<style scoped>\n",
       "    .dataframe tbody tr th:only-of-type {\n",
       "        vertical-align: middle;\n",
       "    }\n",
       "\n",
       "    .dataframe tbody tr th {\n",
       "        vertical-align: top;\n",
       "    }\n",
       "\n",
       "    .dataframe thead th {\n",
       "        text-align: right;\n",
       "    }\n",
       "</style>\n",
       "<table border=\"1\" class=\"dataframe\">\n",
       "  <thead>\n",
       "    <tr style=\"text-align: right;\">\n",
       "      <th></th>\n",
       "      <th>Ozone</th>\n",
       "      <th>Solar.R</th>\n",
       "      <th>Wind</th>\n",
       "      <th>Month</th>\n",
       "      <th>Day</th>\n",
       "      <th>Year</th>\n",
       "      <th>Temp</th>\n",
       "      <th>Weather</th>\n",
       "    </tr>\n",
       "  </thead>\n",
       "  <tbody>\n",
       "    <tr>\n",
       "      <th>0</th>\n",
       "      <td>41.0</td>\n",
       "      <td>190.0</td>\n",
       "      <td>7.4</td>\n",
       "      <td>5.0</td>\n",
       "      <td>1</td>\n",
       "      <td>2010</td>\n",
       "      <td>67</td>\n",
       "      <td>S</td>\n",
       "    </tr>\n",
       "    <tr>\n",
       "      <th>1</th>\n",
       "      <td>36.0</td>\n",
       "      <td>118.0</td>\n",
       "      <td>8.0</td>\n",
       "      <td>5.0</td>\n",
       "      <td>2</td>\n",
       "      <td>2010</td>\n",
       "      <td>72</td>\n",
       "      <td>C</td>\n",
       "    </tr>\n",
       "    <tr>\n",
       "      <th>2</th>\n",
       "      <td>12.0</td>\n",
       "      <td>149.0</td>\n",
       "      <td>12.6</td>\n",
       "      <td>5.0</td>\n",
       "      <td>3</td>\n",
       "      <td>2010</td>\n",
       "      <td>74</td>\n",
       "      <td>PS</td>\n",
       "    </tr>\n",
       "    <tr>\n",
       "      <th>3</th>\n",
       "      <td>18.0</td>\n",
       "      <td>313.0</td>\n",
       "      <td>11.5</td>\n",
       "      <td>5.0</td>\n",
       "      <td>4</td>\n",
       "      <td>2010</td>\n",
       "      <td>62</td>\n",
       "      <td>S</td>\n",
       "    </tr>\n",
       "    <tr>\n",
       "      <th>4</th>\n",
       "      <td>NaN</td>\n",
       "      <td>NaN</td>\n",
       "      <td>14.3</td>\n",
       "      <td>5.0</td>\n",
       "      <td>5</td>\n",
       "      <td>2010</td>\n",
       "      <td>56</td>\n",
       "      <td>S</td>\n",
       "    </tr>\n",
       "    <tr>\n",
       "      <th>...</th>\n",
       "      <td>...</td>\n",
       "      <td>...</td>\n",
       "      <td>...</td>\n",
       "      <td>...</td>\n",
       "      <td>...</td>\n",
       "      <td>...</td>\n",
       "      <td>...</td>\n",
       "      <td>...</td>\n",
       "    </tr>\n",
       "    <tr>\n",
       "      <th>152</th>\n",
       "      <td>20.0</td>\n",
       "      <td>223.0</td>\n",
       "      <td>11.5</td>\n",
       "      <td>9.0</td>\n",
       "      <td>30</td>\n",
       "      <td>2010</td>\n",
       "      <td>68</td>\n",
       "      <td>S</td>\n",
       "    </tr>\n",
       "    <tr>\n",
       "      <th>153</th>\n",
       "      <td>41.0</td>\n",
       "      <td>190.0</td>\n",
       "      <td>7.4</td>\n",
       "      <td>5.0</td>\n",
       "      <td>1</td>\n",
       "      <td>2010</td>\n",
       "      <td>67</td>\n",
       "      <td>C</td>\n",
       "    </tr>\n",
       "    <tr>\n",
       "      <th>154</th>\n",
       "      <td>30.0</td>\n",
       "      <td>193.0</td>\n",
       "      <td>6.9</td>\n",
       "      <td>9.0</td>\n",
       "      <td>26</td>\n",
       "      <td>2010</td>\n",
       "      <td>70</td>\n",
       "      <td>PS</td>\n",
       "    </tr>\n",
       "    <tr>\n",
       "      <th>155</th>\n",
       "      <td>NaN</td>\n",
       "      <td>145.0</td>\n",
       "      <td>13.2</td>\n",
       "      <td>9.0</td>\n",
       "      <td>27</td>\n",
       "      <td>2010</td>\n",
       "      <td>77</td>\n",
       "      <td>S</td>\n",
       "    </tr>\n",
       "    <tr>\n",
       "      <th>157</th>\n",
       "      <td>18.0</td>\n",
       "      <td>131.0</td>\n",
       "      <td>8.0</td>\n",
       "      <td>9.0</td>\n",
       "      <td>29</td>\n",
       "      <td>2010</td>\n",
       "      <td>76</td>\n",
       "      <td>C</td>\n",
       "    </tr>\n",
       "  </tbody>\n",
       "</table>\n",
       "<p>157 rows × 8 columns</p>\n",
       "</div>"
      ],
      "text/plain": [
       "     Ozone  Solar.R  Wind  Month  Day  Year  Temp Weather\n",
       "0     41.0    190.0   7.4    5.0    1  2010    67       S\n",
       "1     36.0    118.0   8.0    5.0    2  2010    72       C\n",
       "2     12.0    149.0  12.6    5.0    3  2010    74      PS\n",
       "3     18.0    313.0  11.5    5.0    4  2010    62       S\n",
       "4      NaN      NaN  14.3    5.0    5  2010    56       S\n",
       "..     ...      ...   ...    ...  ...   ...   ...     ...\n",
       "152   20.0    223.0  11.5    9.0   30  2010    68       S\n",
       "153   41.0    190.0   7.4    5.0    1  2010    67       C\n",
       "154   30.0    193.0   6.9    9.0   26  2010    70      PS\n",
       "155    NaN    145.0  13.2    9.0   27  2010    77       S\n",
       "157   18.0    131.0   8.0    9.0   29  2010    76       C\n",
       "\n",
       "[157 rows x 8 columns]"
      ]
     },
     "execution_count": 9,
     "metadata": {},
     "output_type": "execute_result"
    }
   ],
   "source": [
    "data1.drop_duplicates(keep='first', inplace = True)\n",
    "data1"
   ]
  },
  {
   "cell_type": "code",
   "execution_count": null,
   "id": "7c646f3b-e7d5-4cdc-ba8b-c7950ecfd498",
   "metadata": {},
   "outputs": [],
   "source": []
  },
  {
   "cell_type": "code",
   "execution_count": 11,
   "id": "6dedac57-e2ab-44a5-9a54-101df1527326",
   "metadata": {},
   "outputs": [
    {
     "data": {
      "text/html": [
       "<div>\n",
       "<style scoped>\n",
       "    .dataframe tbody tr th:only-of-type {\n",
       "        vertical-align: middle;\n",
       "    }\n",
       "\n",
       "    .dataframe tbody tr th {\n",
       "        vertical-align: top;\n",
       "    }\n",
       "\n",
       "    .dataframe thead th {\n",
       "        text-align: right;\n",
       "    }\n",
       "</style>\n",
       "<table border=\"1\" class=\"dataframe\">\n",
       "  <thead>\n",
       "    <tr style=\"text-align: right;\">\n",
       "      <th></th>\n",
       "      <th>Ozone</th>\n",
       "      <th>Solar.R</th>\n",
       "      <th>Wind</th>\n",
       "      <th>Month</th>\n",
       "      <th>Day</th>\n",
       "      <th>Year</th>\n",
       "      <th>Temp</th>\n",
       "      <th>Weather</th>\n",
       "    </tr>\n",
       "  </thead>\n",
       "  <tbody>\n",
       "  </tbody>\n",
       "</table>\n",
       "</div>"
      ],
      "text/plain": [
       "Empty DataFrame\n",
       "Columns: [Ozone, Solar.R, Wind, Month, Day, Year, Temp, Weather]\n",
       "Index: []"
      ]
     },
     "execution_count": 11,
     "metadata": {},
     "output_type": "execute_result"
    }
   ],
   "source": [
    "data1[data1.duplicated()]"
   ]
  },
  {
   "cell_type": "code",
   "execution_count": 12,
   "id": "adb107f6-a48c-4f5e-aded-6e267eaa45ee",
   "metadata": {},
   "outputs": [
    {
     "data": {
      "text/html": [
       "<div>\n",
       "<style scoped>\n",
       "    .dataframe tbody tr th:only-of-type {\n",
       "        vertical-align: middle;\n",
       "    }\n",
       "\n",
       "    .dataframe tbody tr th {\n",
       "        vertical-align: top;\n",
       "    }\n",
       "\n",
       "    .dataframe thead th {\n",
       "        text-align: right;\n",
       "    }\n",
       "</style>\n",
       "<table border=\"1\" class=\"dataframe\">\n",
       "  <thead>\n",
       "    <tr style=\"text-align: right;\">\n",
       "      <th></th>\n",
       "      <th>Ozone</th>\n",
       "      <th>Solar</th>\n",
       "      <th>Wind</th>\n",
       "      <th>Month</th>\n",
       "      <th>Day</th>\n",
       "      <th>Year</th>\n",
       "      <th>Temp</th>\n",
       "      <th>Weather</th>\n",
       "    </tr>\n",
       "  </thead>\n",
       "  <tbody>\n",
       "    <tr>\n",
       "      <th>0</th>\n",
       "      <td>41.0</td>\n",
       "      <td>190.0</td>\n",
       "      <td>7.4</td>\n",
       "      <td>5.0</td>\n",
       "      <td>1</td>\n",
       "      <td>2010</td>\n",
       "      <td>67</td>\n",
       "      <td>S</td>\n",
       "    </tr>\n",
       "    <tr>\n",
       "      <th>1</th>\n",
       "      <td>36.0</td>\n",
       "      <td>118.0</td>\n",
       "      <td>8.0</td>\n",
       "      <td>5.0</td>\n",
       "      <td>2</td>\n",
       "      <td>2010</td>\n",
       "      <td>72</td>\n",
       "      <td>C</td>\n",
       "    </tr>\n",
       "    <tr>\n",
       "      <th>2</th>\n",
       "      <td>12.0</td>\n",
       "      <td>149.0</td>\n",
       "      <td>12.6</td>\n",
       "      <td>5.0</td>\n",
       "      <td>3</td>\n",
       "      <td>2010</td>\n",
       "      <td>74</td>\n",
       "      <td>PS</td>\n",
       "    </tr>\n",
       "    <tr>\n",
       "      <th>3</th>\n",
       "      <td>18.0</td>\n",
       "      <td>313.0</td>\n",
       "      <td>11.5</td>\n",
       "      <td>5.0</td>\n",
       "      <td>4</td>\n",
       "      <td>2010</td>\n",
       "      <td>62</td>\n",
       "      <td>S</td>\n",
       "    </tr>\n",
       "    <tr>\n",
       "      <th>4</th>\n",
       "      <td>NaN</td>\n",
       "      <td>NaN</td>\n",
       "      <td>14.3</td>\n",
       "      <td>5.0</td>\n",
       "      <td>5</td>\n",
       "      <td>2010</td>\n",
       "      <td>56</td>\n",
       "      <td>S</td>\n",
       "    </tr>\n",
       "    <tr>\n",
       "      <th>...</th>\n",
       "      <td>...</td>\n",
       "      <td>...</td>\n",
       "      <td>...</td>\n",
       "      <td>...</td>\n",
       "      <td>...</td>\n",
       "      <td>...</td>\n",
       "      <td>...</td>\n",
       "      <td>...</td>\n",
       "    </tr>\n",
       "    <tr>\n",
       "      <th>152</th>\n",
       "      <td>20.0</td>\n",
       "      <td>223.0</td>\n",
       "      <td>11.5</td>\n",
       "      <td>9.0</td>\n",
       "      <td>30</td>\n",
       "      <td>2010</td>\n",
       "      <td>68</td>\n",
       "      <td>S</td>\n",
       "    </tr>\n",
       "    <tr>\n",
       "      <th>153</th>\n",
       "      <td>41.0</td>\n",
       "      <td>190.0</td>\n",
       "      <td>7.4</td>\n",
       "      <td>5.0</td>\n",
       "      <td>1</td>\n",
       "      <td>2010</td>\n",
       "      <td>67</td>\n",
       "      <td>C</td>\n",
       "    </tr>\n",
       "    <tr>\n",
       "      <th>154</th>\n",
       "      <td>30.0</td>\n",
       "      <td>193.0</td>\n",
       "      <td>6.9</td>\n",
       "      <td>9.0</td>\n",
       "      <td>26</td>\n",
       "      <td>2010</td>\n",
       "      <td>70</td>\n",
       "      <td>PS</td>\n",
       "    </tr>\n",
       "    <tr>\n",
       "      <th>155</th>\n",
       "      <td>NaN</td>\n",
       "      <td>145.0</td>\n",
       "      <td>13.2</td>\n",
       "      <td>9.0</td>\n",
       "      <td>27</td>\n",
       "      <td>2010</td>\n",
       "      <td>77</td>\n",
       "      <td>S</td>\n",
       "    </tr>\n",
       "    <tr>\n",
       "      <th>157</th>\n",
       "      <td>18.0</td>\n",
       "      <td>131.0</td>\n",
       "      <td>8.0</td>\n",
       "      <td>9.0</td>\n",
       "      <td>29</td>\n",
       "      <td>2010</td>\n",
       "      <td>76</td>\n",
       "      <td>C</td>\n",
       "    </tr>\n",
       "  </tbody>\n",
       "</table>\n",
       "<p>157 rows × 8 columns</p>\n",
       "</div>"
      ],
      "text/plain": [
       "     Ozone  Solar  Wind  Month  Day  Year  Temp Weather\n",
       "0     41.0  190.0   7.4    5.0    1  2010    67       S\n",
       "1     36.0  118.0   8.0    5.0    2  2010    72       C\n",
       "2     12.0  149.0  12.6    5.0    3  2010    74      PS\n",
       "3     18.0  313.0  11.5    5.0    4  2010    62       S\n",
       "4      NaN    NaN  14.3    5.0    5  2010    56       S\n",
       "..     ...    ...   ...    ...  ...   ...   ...     ...\n",
       "152   20.0  223.0  11.5    9.0   30  2010    68       S\n",
       "153   41.0  190.0   7.4    5.0    1  2010    67       C\n",
       "154   30.0  193.0   6.9    9.0   26  2010    70      PS\n",
       "155    NaN  145.0  13.2    9.0   27  2010    77       S\n",
       "157   18.0  131.0   8.0    9.0   29  2010    76       C\n",
       "\n",
       "[157 rows x 8 columns]"
      ]
     },
     "execution_count": 12,
     "metadata": {},
     "output_type": "execute_result"
    }
   ],
   "source": [
    "data1.rename({'Solar.R': 'Solar'}, axis=1, inplace = True)\n",
    "data1"
   ]
  },
  {
   "cell_type": "code",
   "execution_count": 13,
   "id": "b9611b3f-5de2-44ee-add2-d9d4451cbed3",
   "metadata": {},
   "outputs": [],
   "source": [
    "### Impute the missing values"
   ]
  },
  {
   "cell_type": "code",
   "execution_count": 14,
   "id": "5f5b1ebd-b7c3-4bd8-9883-b80f9e6fffb3",
   "metadata": {},
   "outputs": [
    {
     "name": "stdout",
     "output_type": "stream",
     "text": [
      "<class 'pandas.core.frame.DataFrame'>\n",
      "Index: 157 entries, 0 to 157\n",
      "Data columns (total 8 columns):\n",
      " #   Column   Non-Null Count  Dtype  \n",
      "---  ------   --------------  -----  \n",
      " 0   Ozone    119 non-null    float64\n",
      " 1   Solar    150 non-null    float64\n",
      " 2   Wind     157 non-null    float64\n",
      " 3   Month    156 non-null    float64\n",
      " 4   Day      157 non-null    int64  \n",
      " 5   Year     157 non-null    int64  \n",
      " 6   Temp     157 non-null    int64  \n",
      " 7   Weather  154 non-null    object \n",
      "dtypes: float64(4), int64(3), object(1)\n",
      "memory usage: 11.0+ KB\n"
     ]
    }
   ],
   "source": [
    "data1.info()"
   ]
  },
  {
   "cell_type": "code",
   "execution_count": 15,
   "id": "033a02ac-10fe-410a-8cc6-d9ca80b6368c",
   "metadata": {},
   "outputs": [
    {
     "data": {
      "text/plain": [
       "Ozone      38\n",
       "Solar       7\n",
       "Wind        0\n",
       "Month       1\n",
       "Day         0\n",
       "Year        0\n",
       "Temp        0\n",
       "Weather     3\n",
       "dtype: int64"
      ]
     },
     "execution_count": 15,
     "metadata": {},
     "output_type": "execute_result"
    }
   ],
   "source": [
    "data1.isnull().sum()"
   ]
  },
  {
   "cell_type": "code",
   "execution_count": 16,
   "id": "8f4ab3a4-7eb8-4603-99a2-05349a561e1a",
   "metadata": {},
   "outputs": [
    {
     "data": {
      "text/plain": [
       "<Axes: >"
      ]
     },
     "execution_count": 16,
     "metadata": {},
     "output_type": "execute_result"
    },
    {
     "data": {
      "image/png": "[encoded data removed]",
      "text/plain": [
       "<Figure size 640x480 with 2 Axes>"
      ]
     },
     "metadata": {},
     "output_type": "display_data"
    }
   ],
   "source": [
    "cols = data1.columns\n",
    "colors = ['black', 'yellow']\n",
    "sns.heatmap(data1[cols].isnull(),cmap=sns.color_palette(colors),cbar = True)"
   ]
  },
  {
   "cell_type": "code",
   "execution_count": 17,
   "id": "534096a2-cdc5-430d-9c74-b91b1dfb57f4",
   "metadata": {},
   "outputs": [
    {
     "name": "stdout",
     "output_type": "stream",
     "text": [
      "Median of Ozone:  31.0\n",
      "Mean of Ozone:  41.81512605042017\n"
     ]
    }
   ],
   "source": [
    "median_ozone = data1[\"Ozone\"].median()\n",
    "mean_ozone = data1[\"Ozone\"].mean()\n",
    "print(\"Median of Ozone: \", median_ozone)\n",
    "print(\"Mean of Ozone: \", mean_ozone)"
   ]
  },
  {
   "cell_type": "code",
   "execution_count": 18,
   "id": "c5f37302-b409-4b53-8b9d-92b631bfbba9",
   "metadata": {},
   "outputs": [
    {
     "name": "stdout",
     "output_type": "stream",
     "text": [
      "Median of Ozone:  31.0\n",
      "Mean of Ozone:  41.81512605042017\n"
     ]
    }
   ],
   "source": [
    "median_ozone = data1[\"Ozone\"].median()\n",
    "mean_ozone = data1[\"Ozone\"].mean()\n",
    "print(\"Median of Ozone: \", median_ozone)\n",
    "print(\"Mean of Ozone: \", mean_ozone)"
   ]
  },
  {
   "cell_type": "code",
   "execution_count": 19,
   "id": "f8512567-d03f-4e2b-862c-3dcc45d876f6",
   "metadata": {},
   "outputs": [
    {
     "data": {
      "text/plain": [
       "Ozone      0\n",
       "Solar      7\n",
       "Wind       0\n",
       "Month      1\n",
       "Day        0\n",
       "Year       0\n",
       "Temp       0\n",
       "Weather    3\n",
       "dtype: int64"
      ]
     },
     "execution_count": 19,
     "metadata": {},
     "output_type": "execute_result"
    }
   ],
   "source": [
    "data1['Ozone'] = data1['Ozone'].fillna(median_ozone)\n",
    "data1.isnull().sum()"
   ]
  },
  {
   "cell_type": "code",
   "execution_count": 20,
   "id": "2ce80030-af1f-4e97-9960-b50f048a9a04",
   "metadata": {},
   "outputs": [
    {
     "name": "stdout",
     "output_type": "stream",
     "text": [
      "Median of Solar:  199.0\n",
      "Mean of Solar:  185.36666666666667\n"
     ]
    }
   ],
   "source": [
    "median_solar = data1[\"Solar\"].median()\n",
    "mean_solar = data1[\"Solar\"].mean()\n",
    "print(\"Median of Solar: \", median_solar)\n",
    "print(\"Mean of Solar: \", mean_solar)"
   ]
  },
  {
   "cell_type": "code",
   "execution_count": 21,
   "id": "1ef129cb-9a05-42b6-a60d-2db48478165c",
   "metadata": {},
   "outputs": [
    {
     "data": {
      "text/plain": [
       "Ozone      0\n",
       "Solar      0\n",
       "Wind       0\n",
       "Month      1\n",
       "Day        0\n",
       "Year       0\n",
       "Temp       0\n",
       "Weather    3\n",
       "dtype: int64"
      ]
     },
     "execution_count": 21,
     "metadata": {},
     "output_type": "execute_result"
    }
   ],
   "source": [
    "data1['Solar'] = data1['Solar'].fillna(median_solar)\n",
    "data1.isnull().sum()"
   ]
  },
  {
   "cell_type": "code",
   "execution_count": 22,
   "id": "e5c0ebba-1006-4249-8eed-2165a09a09a8",
   "metadata": {},
   "outputs": [
    {
     "data": {
      "text/plain": [
       "Ozone      0\n",
       "Solar      0\n",
       "Wind       0\n",
       "Month      1\n",
       "Day        0\n",
       "Year       0\n",
       "Temp       0\n",
       "Weather    3\n",
       "dtype: int64"
      ]
     },
     "execution_count": 22,
     "metadata": {},
     "output_type": "execute_result"
    }
   ],
   "source": [
    "data1['Solar'] = data1['Solar'].fillna(mean_solar)\n",
    "data1.isnull().sum()"
   ]
  },
  {
   "cell_type": "code",
   "execution_count": 23,
   "id": "d98bcc4f-311f-4abb-9510-a033f7dec05d",
   "metadata": {},
   "outputs": [
    {
     "name": "stdout",
     "output_type": "stream",
     "text": [
      "Weather\n",
      "S     58\n",
      "C     49\n",
      "PS    47\n",
      "Name: count, dtype: int64\n",
      "S\n"
     ]
    }
   ],
   "source": [
    "print(data1[\"Weather\"].value_counts())\n",
    "mode_weather = data1[\"Weather\"].mode()[0]\n",
    "print(mode_weather)"
   ]
  },
  {
   "cell_type": "code",
   "execution_count": 24,
   "id": "5a925e87-89b1-4dcd-a590-c01e6f042a3b",
   "metadata": {},
   "outputs": [
    {
     "data": {
      "text/plain": [
       "Ozone      0\n",
       "Solar      0\n",
       "Wind       0\n",
       "Month      1\n",
       "Day        0\n",
       "Year       0\n",
       "Temp       0\n",
       "Weather    0\n",
       "dtype: int64"
      ]
     },
     "execution_count": 24,
     "metadata": {},
     "output_type": "execute_result"
    }
   ],
   "source": [
    "data1[\"Weather\"] = data1[\"Weather\"].fillna(mode_weather)\n",
    "data1.isnull().sum()"
   ]
  },
  {
   "cell_type": "code",
   "execution_count": 34,
   "id": "b373dad9-971a-4f26-87a8-1a8ffb05560b",
   "metadata": {},
   "outputs": [
    {
     "name": "stdout",
     "output_type": "stream",
     "text": [
      "Month\n",
      "9.0    33\n",
      "5.0    31\n",
      "7.0    31\n",
      "8.0    31\n",
      "6.0    30\n",
      "Name: count, dtype: int64\n",
      "9.0\n"
     ]
    }
   ],
   "source": [
    "print(data1[\"Month\"].value_counts())\n",
    "mode_month = data1[\"Month\"].mode()[0]\n",
    "print(mode_month)"
   ]
  },
  {
   "cell_type": "code",
   "execution_count": 40,
   "id": "e968317b-6984-4343-a619-fe088fcbbf63",
   "metadata": {},
   "outputs": [
    {
     "data": {
      "text/plain": [
       "Ozone      0\n",
       "Solar      0\n",
       "Wind       0\n",
       "Month      0\n",
       "Day        0\n",
       "Year       0\n",
       "Temp       0\n",
       "Weather    0\n",
       "dtype: int64"
      ]
     },
     "execution_count": 40,
     "metadata": {},
     "output_type": "execute_result"
    }
   ],
   "source": [
    "data1[\"Month\"] = data1[\"Month\"].fillna(mode_month)\n",
    "data1.isnull().sum()"
   ]
  },
  {
   "cell_type": "code",
   "execution_count": 52,
   "id": "9b54a809-80ac-4bf6-b7e9-2de9ae776346",
   "metadata": {},
   "outputs": [
    {
     "data": {
      "text/html": [
       "<div>\n",
       "<style scoped>\n",
       "    .dataframe tbody tr th:only-of-type {\n",
       "        vertical-align: middle;\n",
       "    }\n",
       "\n",
       "    .dataframe tbody tr th {\n",
       "        vertical-align: top;\n",
       "    }\n",
       "\n",
       "    .dataframe thead th {\n",
       "        text-align: right;\n",
       "    }\n",
       "</style>\n",
       "<table border=\"1\" class=\"dataframe\">\n",
       "  <thead>\n",
       "    <tr style=\"text-align: right;\">\n",
       "      <th></th>\n",
       "      <th>Ozone</th>\n",
       "      <th>Solar</th>\n",
       "      <th>Wind</th>\n",
       "      <th>Month</th>\n",
       "      <th>Day</th>\n",
       "      <th>Year</th>\n",
       "      <th>Temp</th>\n",
       "      <th>Weather</th>\n",
       "    </tr>\n",
       "  </thead>\n",
       "  <tbody>\n",
       "    <tr>\n",
       "      <th>0</th>\n",
       "      <td>41.0</td>\n",
       "      <td>190.0</td>\n",
       "      <td>7.4</td>\n",
       "      <td>5.0</td>\n",
       "      <td>1</td>\n",
       "      <td>2010</td>\n",
       "      <td>67</td>\n",
       "      <td>S</td>\n",
       "    </tr>\n",
       "    <tr>\n",
       "      <th>1</th>\n",
       "      <td>36.0</td>\n",
       "      <td>118.0</td>\n",
       "      <td>8.0</td>\n",
       "      <td>5.0</td>\n",
       "      <td>2</td>\n",
       "      <td>2010</td>\n",
       "      <td>72</td>\n",
       "      <td>C</td>\n",
       "    </tr>\n",
       "    <tr>\n",
       "      <th>2</th>\n",
       "      <td>12.0</td>\n",
       "      <td>149.0</td>\n",
       "      <td>12.6</td>\n",
       "      <td>5.0</td>\n",
       "      <td>3</td>\n",
       "      <td>2010</td>\n",
       "      <td>74</td>\n",
       "      <td>PS</td>\n",
       "    </tr>\n",
       "    <tr>\n",
       "      <th>3</th>\n",
       "      <td>18.0</td>\n",
       "      <td>313.0</td>\n",
       "      <td>11.5</td>\n",
       "      <td>5.0</td>\n",
       "      <td>4</td>\n",
       "      <td>2010</td>\n",
       "      <td>62</td>\n",
       "      <td>S</td>\n",
       "    </tr>\n",
       "    <tr>\n",
       "      <th>4</th>\n",
       "      <td>31.0</td>\n",
       "      <td>199.0</td>\n",
       "      <td>14.3</td>\n",
       "      <td>5.0</td>\n",
       "      <td>5</td>\n",
       "      <td>2010</td>\n",
       "      <td>56</td>\n",
       "      <td>S</td>\n",
       "    </tr>\n",
       "    <tr>\n",
       "      <th>...</th>\n",
       "      <td>...</td>\n",
       "      <td>...</td>\n",
       "      <td>...</td>\n",
       "      <td>...</td>\n",
       "      <td>...</td>\n",
       "      <td>...</td>\n",
       "      <td>...</td>\n",
       "      <td>...</td>\n",
       "    </tr>\n",
       "    <tr>\n",
       "      <th>152</th>\n",
       "      <td>20.0</td>\n",
       "      <td>223.0</td>\n",
       "      <td>11.5</td>\n",
       "      <td>9.0</td>\n",
       "      <td>30</td>\n",
       "      <td>2010</td>\n",
       "      <td>68</td>\n",
       "      <td>S</td>\n",
       "    </tr>\n",
       "    <tr>\n",
       "      <th>153</th>\n",
       "      <td>41.0</td>\n",
       "      <td>190.0</td>\n",
       "      <td>7.4</td>\n",
       "      <td>5.0</td>\n",
       "      <td>1</td>\n",
       "      <td>2010</td>\n",
       "      <td>67</td>\n",
       "      <td>C</td>\n",
       "    </tr>\n",
       "    <tr>\n",
       "      <th>154</th>\n",
       "      <td>30.0</td>\n",
       "      <td>193.0</td>\n",
       "      <td>6.9</td>\n",
       "      <td>9.0</td>\n",
       "      <td>26</td>\n",
       "      <td>2010</td>\n",
       "      <td>70</td>\n",
       "      <td>PS</td>\n",
       "    </tr>\n",
       "    <tr>\n",
       "      <th>155</th>\n",
       "      <td>31.0</td>\n",
       "      <td>145.0</td>\n",
       "      <td>13.2</td>\n",
       "      <td>9.0</td>\n",
       "      <td>27</td>\n",
       "      <td>2010</td>\n",
       "      <td>77</td>\n",
       "      <td>S</td>\n",
       "    </tr>\n",
       "    <tr>\n",
       "      <th>156</th>\n",
       "      <td>18.0</td>\n",
       "      <td>131.0</td>\n",
       "      <td>8.0</td>\n",
       "      <td>9.0</td>\n",
       "      <td>29</td>\n",
       "      <td>2010</td>\n",
       "      <td>76</td>\n",
       "      <td>C</td>\n",
       "    </tr>\n",
       "  </tbody>\n",
       "</table>\n",
       "<p>157 rows × 8 columns</p>\n",
       "</div>"
      ],
      "text/plain": [
       "     Ozone  Solar  Wind  Month  Day  Year  Temp Weather\n",
       "0     41.0  190.0   7.4    5.0    1  2010    67       S\n",
       "1     36.0  118.0   8.0    5.0    2  2010    72       C\n",
       "2     12.0  149.0  12.6    5.0    3  2010    74      PS\n",
       "3     18.0  313.0  11.5    5.0    4  2010    62       S\n",
       "4     31.0  199.0  14.3    5.0    5  2010    56       S\n",
       "..     ...    ...   ...    ...  ...   ...   ...     ...\n",
       "152   20.0  223.0  11.5    9.0   30  2010    68       S\n",
       "153   41.0  190.0   7.4    5.0    1  2010    67       C\n",
       "154   30.0  193.0   6.9    9.0   26  2010    70      PS\n",
       "155   31.0  145.0  13.2    9.0   27  2010    77       S\n",
       "156   18.0  131.0   8.0    9.0   29  2010    76       C\n",
       "\n",
       "[157 rows x 8 columns]"
      ]
     },
     "execution_count": 52,
     "metadata": {},
     "output_type": "execute_result"
    }
   ],
   "source": [
    "#Reset the index column\n",
    "data1.reset_index(drop=True)"
   ]
  },
  {
   "cell_type": "code",
   "execution_count": 54,
   "id": "c59c829c-a4a5-4b9c-b7f2-aa23c9c2d43d",
   "metadata": {},
   "outputs": [],
   "source": [
    "###Detection of outliners in the colimns\n",
    "\n",
    "###Method1:Using histograms and box plots"
   ]
  },
  {
   "cell_type": "code",
   "execution_count": 56,
   "id": "7b269b76-d607-4942-987e-126ffc431ae0",
   "metadata": {},
   "outputs": [
    {
     "data": {
      "image/png": "[encoded data removed]",
      "text/plain": [
       "<Figure size 800x600 with 2 Axes>"
      ]
     },
     "metadata": {},
     "output_type": "display_data"
    }
   ],
   "source": [
    "fig, axes = plt.subplots(2, 1, figsize=(8,6), gridspec_kw={'height_ratios':[1, 3]})\n",
    "\n",
    "# Plot the boxplot in the first (top) subplot\n",
    "sns.boxplot(data=data1[\"Ozone\"], ax=axes[0], color='skyblue', width=0.5, orient = 'h')\n",
    "axes[0].set_title(\"Boxplot\")\n",
    "axes[0].set_xlabel(\"Ozone Levels\")\n",
    "\n",
    "# Plot the histogram with KDE curve in the second (bottom) subplot\n",
    "sns.histplot(data1[\"Ozone\"], kde=True, ax=axes[1], color='purple', bins=30)\n",
    "axes[1].set_title(\"Histogram with KDE\")\n",
    "axes[1].set_xlabel(\"Ozone Levels\")\n",
    "axes[1].set_ylabel(\"Frequency\")\n",
    "\n",
    "#Adjust layout for better spacing\n",
    "plt.tight_layout()\n",
    "\n",
    "# Show the plot\n",
    "plt.show()"
   ]
  },
  {
   "cell_type": "markdown",
   "id": "1e0e9954-cdbd-4872-8f3b-abe7063f4b08",
   "metadata": {},
   "source": [
    "#### Observations\n",
    "- The ozone column has extreme values beyond 81 as seen from box plot\n",
    "- The same is confirmed from the below right-skewed histogram"
   ]
  },
  {
   "cell_type": "code",
   "execution_count": 59,
   "id": "b7169984-20b3-46d6-85ff-c819e01a43d2",
   "metadata": {},
   "outputs": [
    {
     "data": {
      "image/png": "[encoded data removed]",
      "text/plain": [
       "<Figure size 800x600 with 2 Axes>"
      ]
     },
     "metadata": {},
     "output_type": "display_data"
    }
   ],
   "source": [
    "fig, axes = plt.subplots(2, 1, figsize=(8,6), gridspec_kw={'height_ratios':[1, 3]})\n",
    "\n",
    "sns.boxplot(data=data1[\"Solar\"], ax=axes[0], color='skyblue', width=0.5, orient = 'h')\n",
    "axes[0].set_title(\"Boxplot\")\n",
    "axes[0].set_xlabel(\"Solar Levels\")\n",
    "\n",
    "sns.histplot(data1[\"Solar\"], kde=True, ax=axes[1], color='purple', bins=30)\n",
    "axes[1].set_title(\"Histogram with KDE\")\n",
    "axes[1].set_xlabel(\"Solar Levels\")\n",
    "axes[1].set_ylabel(\"Frequency\")\n",
    "\n",
    "plt.tight_layout()\n",
    "\n",
    "plt.show()"
   ]
  },
  {
   "cell_type": "code",
   "execution_count": 60,
   "id": "31100650-4405-4797-90df-e43d4f349b5b",
   "metadata": {},
   "outputs": [
    {
     "data": {
      "image/png": "[encoded data removed]",
      "text/plain": [
       "<Figure size 640x480 with 1 Axes>"
      ]
     },
     "metadata": {},
     "output_type": "display_data"
    }
   ],
   "source": [
    "# Create a figure for violin plot\n",
    "sns.violinplot(data=data1[\"Ozone\"], color='lightgreen')\n",
    "plt.title(\"Violin Plot\")\n",
    "\n",
    "plt.show()\n",
    "\n"
   ]
  },
  {
   "cell_type": "code",
   "execution_count": null,
   "id": "289e7d41-1f96-4832-961a-eec3ae7cca58",
   "metadata": {},
   "outputs": [],
   "source": []
  },
  {
   "cell_type": "code",
   "execution_count": null,
   "id": "3cec35ea-e256-41ac-9825-fce8c78dba34",
   "metadata": {},
   "outputs": [],
   "source": []
  },
  {
   "cell_type": "code",
   "execution_count": 69,
   "id": "52c7d46a-ca5f-45ec-984e-7854882df62c",
   "metadata": {},
   "outputs": [
    {
     "data": {
      "text/plain": [
       "{'whiskers': [<matplotlib.lines.Line2D at 0x1cc276f1cd0>,\n",
       "  <matplotlib.lines.Line2D at 0x1cc276f1fd0>],\n",
       " 'caps': [<matplotlib.lines.Line2D at 0x1cc276f2270>,\n",
       "  <matplotlib.lines.Line2D at 0x1cc276f2420>],\n",
       " 'boxes': [<matplotlib.lines.Line2D at 0x1cc276f1a30>],\n",
       " 'medians': [<matplotlib.lines.Line2D at 0x1cc276f2690>],\n",
       " 'fliers': [<matplotlib.lines.Line2D at 0x1cc276f2930>],\n",
       " 'means': []}"
      ]
     },
     "execution_count": 69,
     "metadata": {},
     "output_type": "execute_result"
    },
    {
     "data": {
      "image/png": "[encoded data removed]",
      "text/plain": [
       "<Figure size 600x200 with 1 Axes>"
      ]
     },
     "metadata": {},
     "output_type": "display_data"
    }
   ],
   "source": [
    "plt.figure(figsize=(6,2))\n",
    "plt.boxplot(data1[\"Ozone\"], vert= False)"
   ]
  },
  {
   "cell_type": "code",
   "execution_count": 71,
   "id": "b73349d0-1169-4b54-9687-674b59d0e524",
   "metadata": {},
   "outputs": [
    {
     "data": {
      "text/plain": [
       "[array([115., 135.,  97.,  97.,  85., 108.,  82., 122.,  89., 110., 168.,\n",
       "        118.,  84.,  85.,  96.,  91.])]"
      ]
     },
     "execution_count": 71,
     "metadata": {},
     "output_type": "execute_result"
    },
    {
     "data": {
      "image/png": "[encoded data removed]",
      "text/plain": [
       "<Figure size 600x200 with 1 Axes>"
      ]
     },
     "metadata": {},
     "output_type": "display_data"
    }
   ],
   "source": [
    "plt.figure(figsize=(6,2))\n",
    "boxplot_data = plt.boxplot(data1[\"Ozone\"], vert= False)\n",
    "[item.get_xdata() for item in boxplot_data['fliers']]"
   ]
  },
  {
   "cell_type": "code",
   "execution_count": 73,
   "id": "0ff2559f-e9a2-4f87-83e2-e57e6b8e3476",
   "metadata": {},
   "outputs": [
    {
     "data": {
      "text/plain": [
       "count    157.000000\n",
       "mean      39.197452\n",
       "std       28.781992\n",
       "min        1.000000\n",
       "25%       21.000000\n",
       "50%       31.000000\n",
       "75%       45.000000\n",
       "max      168.000000\n",
       "Name: Ozone, dtype: float64"
      ]
     },
     "execution_count": 73,
     "metadata": {},
     "output_type": "execute_result"
    }
   ],
   "source": [
    "data1[\"Ozone\"].describe()"
   ]
  },
  {
   "cell_type": "code",
   "execution_count": 77,
   "id": "23d04fc2-3794-4f0b-b357-b9446271199d",
   "metadata": {},
   "outputs": [
    {
     "name": "stdout",
     "output_type": "stream",
     "text": [
      "135.0\n",
      "168.0\n"
     ]
    },
    {
     "name": "stderr",
     "output_type": "stream",
     "text": [
      "C:\\Users\\aniru\\AppData\\Local\\Temp\\ipykernel_26468\\888085939.py:1: FutureWarning: Series.__getitem__ treating keys as positions is deprecated. In a future version, integer keys will always be treated as labels (consistent with DataFrame behavior). To access a value by position, use `ser.iloc[pos]`\n",
      "  mu = data1[\"Ozone\"].describe()[1]\n",
      "C:\\Users\\aniru\\AppData\\Local\\Temp\\ipykernel_26468\\888085939.py:2: FutureWarning: Series.__getitem__ treating keys as positions is deprecated. In a future version, integer keys will always be treated as labels (consistent with DataFrame behavior). To access a value by position, use `ser.iloc[pos]`\n",
      "  sigma = data1[\"Ozone\"].describe()[2]\n"
     ]
    }
   ],
   "source": [
    "mu = data1[\"Ozone\"].describe()[1]\n",
    "sigma = data1[\"Ozone\"].describe()[2]\n",
    "\n",
    "for x in data1[\"Ozone\"]:\n",
    "    if ((x <(mu - 3*sigma)) or (x > (mu + 3*sigma))):\n",
    "        print(x)"
   ]
  },
  {
   "cell_type": "markdown",
   "id": "7f3a4512-9373-493a-8324-4dfdd5644b28",
   "metadata": {},
   "source": [
    "#### Observations\n",
    "- It is observed that only two outliers are identified\n",
    "- In boxplot method  more no of outliers are identified\n",
    "- This is because the assumption of normality is not satisfied in this column"
   ]
  },
  {
   "cell_type": "markdown",
   "id": "d8739b6f-b79f-4cc9-93b5-2f637a1983dd",
   "metadata": {},
   "source": [
    "#### Quantile-Quantile plot for detection pf ouliers"
   ]
  },
  {
   "cell_type": "code",
   "execution_count": 83,
   "id": "d82e18e3-01d8-490a-aee5-58937f8c8473",
   "metadata": {},
   "outputs": [
    {
     "data": {
      "text/plain": [
       "Text(0.5, 0, 'Theoritical Quantiles')"
      ]
     },
     "execution_count": 83,
     "metadata": {},
     "output_type": "execute_result"
    },
    {
     "data": {
      "image/png": "[encoded data removed]",
      "text/plain": [
       "<Figure size 800x600 with 1 Axes>"
      ]
     },
     "metadata": {},
     "output_type": "display_data"
    }
   ],
   "source": [
    "import scipy.stats as stats\n",
    "\n",
    "plt.figure(figsize=(8, 6))\n",
    "stats.probplot(data1[\"Ozone\"], dist=\"norm\", plot=plt)\n",
    "plt.title(\"Q-Q Plot for Outlier Detection\", fontsize=14)\n",
    "plt.xlabel(\"Theoritical Quantiles\", fontsize=12)"
   ]
  },
  {
   "cell_type": "markdown",
   "id": "9155a0cd-d51a-49ca-8154-19101cd5c7fb",
   "metadata": {},
   "source": [
    "#### Observations from Q-Q plot\n",
    "-The data does not follow normal distribution as the data points are deviating significantly away from the red line\n",
    "-The data shows a right-skewed distribution and possible outliers"
   ]
  },
  {
   "cell_type": "markdown",
   "id": "2568e501-6f9c-4b88-92b3-f8d321f9b97a",
   "metadata": {},
   "source": [
    "-The data shows a right-skewed distribution and possible outliers"
   ]
  },
  {
   "cell_type": "markdown",
   "id": "17919e84-6286-4512-9f8e-26027a9ee967",
   "metadata": {},
   "source": [
    "#### Other visualisations that could help in the detection of outliers"
   ]
  },
  {
   "cell_type": "code",
   "execution_count": 88,
   "id": "8eef6851-7427-4b5e-932f-9b8cf31111b2",
   "metadata": {},
   "outputs": [
    {
     "data": {
      "text/plain": [
       "Text(0.5, 1.0, 'Violin Plot')"
      ]
     },
     "execution_count": 88,
     "metadata": {},
     "output_type": "execute_result"
    },
    {
     "data": {
      "image/png": "[encoded data removed]",
      "text/plain": [
       "<Figure size 640x480 with 1 Axes>"
      ]
     },
     "metadata": {},
     "output_type": "display_data"
    }
   ],
   "source": [
    "sns.violinplot(data=data1[\"Ozone\"], color='lightgreen')\n",
    "plt.title(\"Violin Plot\")"
   ]
  },
  {
   "cell_type": "code",
   "execution_count": null,
   "id": "c35b1a26-aef7-41f8-a3e3-47ba5cdd5d2c",
   "metadata": {},
   "outputs": [],
   "source": []
  }
 ],
 "metadata": {
  "kernelspec": {
   "display_name": "Python [conda env:base] *",
   "language": "python",
   "name": "conda-base-py"
  },
  "language_info": {
   "codemirror_mode": {
    "name": "ipython",
    "version": 3
   },
   "file_extension": ".py",
   "mimetype": "text/x-python",
   "name": "python",
   "nbconvert_exporter": "python",
   "pygments_lexer": "ipython3",
   "version": "3.12.7"
  }
 },
 "nbformat": 4,
 "nbformat_minor": 5
}
